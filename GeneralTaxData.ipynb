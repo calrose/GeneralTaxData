{
  "nbformat": 4,
  "nbformat_minor": 0,
  "metadata": {
    "colab": {
      "name": "GeneralTaxData.ipynb",
      "provenance": [],
      "authorship_tag": "ABX9TyMlouYmxcxfOGDSldE0hiOn",
      "include_colab_link": true
    },
    "kernelspec": {
      "name": "python3",
      "display_name": "Python 3"
    },
    "language_info": {
      "name": "python"
    }
  },
  "cells": [
    {
      "cell_type": "markdown",
      "metadata": {
        "id": "view-in-github",
        "colab_type": "text"
      },
      "source": [
        "<a href=\"https://colab.research.google.com/github/calrose/GeneralTaxData/blob/main/GeneralTaxData.ipynb\" target=\"_parent\"><img src=\"https://colab.research.google.com/assets/colab-badge.svg\" alt=\"Open In Colab\"/></a>"
      ]
    },
    {
      "cell_type": "code",
      "metadata": {
        "colab": {
          "base_uri": "https://localhost:8080/",
          "height": 234
        },
        "id": "SzSddZxMBDYM",
        "outputId": "4a8cbdc7-7267-4e37-d7d5-5b05e1eedb2f"
      },
      "source": [
        "import numpy as np\n",
        "import pandas as pd\n",
        "from sklearn import linear_model as lm\n",
        "\n",
        "Data = pd.read_csv('/content/tableconvert_csv_so70jx.csv')\n",
        "\n",
        "targetFeatureFrame = pd.DataFrame({'variety': [1, 2, 3]}, dtype=np.float, index=['Setosa', 'Versicolor', 'Virginica'])\n",
        "targetFeature = targetFeatureFrame[targetFeatureFrame.isin(targetFeatureFrame['variety'].value_counts())] = 'variety'\n",
        "\n",
        "print(targetFeature)\n",
        "dataFeatures = Data.drop(targetFeature, axis=1)\n",
        "\n",
        "MostImportantFeature = dataFeatures.std().sort_values(ascending=False)[0:1]\n",
        "\n",
        "xb = np.array(dataFeatures[MostImportantFeature.index[0]])\n",
        "xb = xb.reshape(-1,1)\n",
        "\n",
        "yb = np.array(Data[targetFeature])\n",
        "yb = yb.reshape(-1,1)\n",
        "\n",
        "print(Data[targetFeature])\n",
        "\n",
        "#bestModel = lm.LinearRegression().fit(xb,yb)\n",
        "#BMscore = bestModel.score(xb,yb)\n",
        "\n",
        "#BestDataModel = Data[[targetFeature, MostImportantFeature.index[0]]]\n",
        "\n",
        "#print(BMscore)\n",
        "#print(BestDataModel.head())"
      ],
      "execution_count": 27,
      "outputs": [
        {
          "output_type": "error",
          "ename": "AttributeError",
          "evalue": "ignored",
          "traceback": [
            "\u001b[0;31m---------------------------------------------------------------------------\u001b[0m",
            "\u001b[0;31mAttributeError\u001b[0m                            Traceback (most recent call last)",
            "\u001b[0;32m<ipython-input-27-bdd1f4b8aa4b>\u001b[0m in \u001b[0;36m<module>\u001b[0;34m()\u001b[0m\n\u001b[1;32m      9\u001b[0m \u001b[0mtargetFeature\u001b[0m \u001b[0;34m=\u001b[0m \u001b[0mtargetFeatureFrame\u001b[0m\u001b[0;34m[\u001b[0m\u001b[0mtargetFeatureFrame\u001b[0m\u001b[0;34m.\u001b[0m\u001b[0misin\u001b[0m\u001b[0;34m(\u001b[0m\u001b[0mtargetFeatureFrame\u001b[0m\u001b[0;34m[\u001b[0m\u001b[0;34m'variety'\u001b[0m\u001b[0;34m]\u001b[0m\u001b[0;34m.\u001b[0m\u001b[0mvalue_counts\u001b[0m\u001b[0;34m(\u001b[0m\u001b[0;34m)\u001b[0m\u001b[0;34m)\u001b[0m\u001b[0;34m]\u001b[0m \u001b[0;34m=\u001b[0m \u001b[0;34m'variety'\u001b[0m\u001b[0;34m\u001b[0m\u001b[0;34m\u001b[0m\u001b[0m\n\u001b[1;32m     10\u001b[0m \u001b[0;34m\u001b[0m\u001b[0m\n\u001b[0;32m---> 11\u001b[0;31m \u001b[0mprint\u001b[0m\u001b[0;34m(\u001b[0m\u001b[0mtargetFeature\u001b[0m\u001b[0;34m.\u001b[0m\u001b[0mdtypes\u001b[0m\u001b[0;34m)\u001b[0m\u001b[0;34m\u001b[0m\u001b[0;34m\u001b[0m\u001b[0m\n\u001b[0m\u001b[1;32m     12\u001b[0m \u001b[0mdataFeatures\u001b[0m \u001b[0;34m=\u001b[0m \u001b[0mData\u001b[0m\u001b[0;34m.\u001b[0m\u001b[0mdrop\u001b[0m\u001b[0;34m(\u001b[0m\u001b[0mtargetFeature\u001b[0m\u001b[0;34m,\u001b[0m \u001b[0maxis\u001b[0m\u001b[0;34m=\u001b[0m\u001b[0;36m1\u001b[0m\u001b[0;34m)\u001b[0m\u001b[0;34m\u001b[0m\u001b[0;34m\u001b[0m\u001b[0m\n\u001b[1;32m     13\u001b[0m \u001b[0;34m\u001b[0m\u001b[0m\n",
            "\u001b[0;31mAttributeError\u001b[0m: 'str' object has no attribute 'dtypes'"
          ]
        }
      ]
    }
  ]
}