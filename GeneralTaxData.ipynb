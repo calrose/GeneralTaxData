{
  "nbformat": 4,
  "nbformat_minor": 0,
  "metadata": {
    "colab": {
      "name": "GeneralTaxData.ipynb",
      "provenance": [],
      "authorship_tag": "ABX9TyP6Pq/WfYMAuDMs5acuys6n",
      "include_colab_link": true
    },
    "kernelspec": {
      "name": "python3",
      "display_name": "Python 3"
    },
    "language_info": {
      "name": "python"
    }
  },
  "cells": [
    {
      "cell_type": "markdown",
      "metadata": {
        "id": "view-in-github",
        "colab_type": "text"
      },
      "source": [
        "<a href=\"https://colab.research.google.com/github/calrose/GeneralTaxData/blob/main/GeneralTaxData.ipynb\" target=\"_parent\"><img src=\"https://colab.research.google.com/assets/colab-badge.svg\" alt=\"Open In Colab\"/></a>"
      ]
    },
    {
      "cell_type": "code",
      "metadata": {
        "colab": {
          "base_uri": "https://localhost:8080/",
          "height": 229
        },
        "id": "SzSddZxMBDYM",
        "outputId": "03f30258-b85c-4fca-b1d5-dc31efcd1089"
      },
      "source": [
        "import numpy as np\n",
        "import pandas as pd\n",
        "from sklearn import linear_model as lm\n",
        "\n",
        "Data = pd.read_csv('/content/tableconvert_csv_so70jx.csv')\n",
        "\n",
        "targetFeature = pd.DataFrame({'variety': ['Setosa', 'Versicolor', 'Virginica']}, index=['one', 'two', 'three'])\n",
        "targetFeature = targetFeature[targetFeature.isin(['Setosa', 'Versicolor', 'Virginica'])] = 'variety'\n",
        "\n",
        "dataFeatures = Data.drop(targetFeature, axis=1)\n",
        "\n",
        "MostImportantFeature = dataFeatures.std().sort_values(ascending=False)[0:1]\n",
        "\n",
        "xb = np.array(dataFeatures[MostImportantFeature.index[0]])\n",
        "xb = xb.reshape(-1,1)\n",
        "\n",
        "yb = np.array(Data[targetFeature])\n",
        "yb = yb.reshape(-1,1)\n",
        "\n",
        "bestModel = lm.LinearRegression().fit(xb,yb)\n",
        "BMscore = bestModel.score(xb,yb)\n",
        "\n",
        "BestDataModel = Data[[targetFeature, MostImportantFeature.index[0]]]\n",
        "\n",
        "print(BMscore)\n",
        "print(BestDataModel.head())"
      ],
      "execution_count": 4,
      "outputs": [
        {
          "output_type": "error",
          "ename": "AttributeError",
          "evalue": "ignored",
          "traceback": [
            "\u001b[0;31m---------------------------------------------------------------------------\u001b[0m",
            "\u001b[0;31mAttributeError\u001b[0m                            Traceback (most recent call last)",
            "\u001b[0;32m<ipython-input-4-38fcf29610fc>\u001b[0m in \u001b[0;36m<module>\u001b[0;34m()\u001b[0m\n\u001b[1;32m      6\u001b[0m \u001b[0;34m\u001b[0m\u001b[0m\n\u001b[1;32m      7\u001b[0m \u001b[0mtargetFeature\u001b[0m \u001b[0;34m=\u001b[0m \u001b[0mpd\u001b[0m\u001b[0;34m.\u001b[0m\u001b[0mDataFrame\u001b[0m\u001b[0;34m(\u001b[0m\u001b[0;34m{\u001b[0m\u001b[0;34m'variety'\u001b[0m\u001b[0;34m:\u001b[0m \u001b[0;34m[\u001b[0m\u001b[0;34m'Setosa'\u001b[0m\u001b[0;34m,\u001b[0m \u001b[0;34m'Versicolor'\u001b[0m\u001b[0;34m,\u001b[0m \u001b[0;34m'Virginica'\u001b[0m\u001b[0;34m]\u001b[0m\u001b[0;34m}\u001b[0m\u001b[0;34m,\u001b[0m \u001b[0mindex\u001b[0m\u001b[0;34m=\u001b[0m\u001b[0;34m[\u001b[0m\u001b[0;34m'one'\u001b[0m\u001b[0;34m,\u001b[0m \u001b[0;34m'two'\u001b[0m\u001b[0;34m,\u001b[0m \u001b[0;34m'three'\u001b[0m\u001b[0;34m]\u001b[0m\u001b[0;34m)\u001b[0m\u001b[0;34m\u001b[0m\u001b[0;34m\u001b[0m\u001b[0m\n\u001b[0;32m----> 8\u001b[0;31m \u001b[0mtargetFeature\u001b[0m \u001b[0;34m=\u001b[0m \u001b[0mtargetFeature\u001b[0m\u001b[0;34m[\u001b[0m\u001b[0mtargetFeature\u001b[0m\u001b[0;34m.\u001b[0m\u001b[0misin\u001b[0m\u001b[0;34m(\u001b[0m\u001b[0;34m[\u001b[0m\u001b[0;34m'Setosa'\u001b[0m\u001b[0;34m,\u001b[0m \u001b[0;34m'Versicolor'\u001b[0m\u001b[0;34m,\u001b[0m \u001b[0;34m'Virginica'\u001b[0m\u001b[0;34m]\u001b[0m\u001b[0;34m)\u001b[0m\u001b[0;34m]\u001b[0m \u001b[0;34m=\u001b[0m \u001b[0;34m'variety'\u001b[0m\u001b[0;34m\u001b[0m\u001b[0;34m\u001b[0m\u001b[0m\n\u001b[0m\u001b[1;32m      9\u001b[0m \u001b[0;34m\u001b[0m\u001b[0m\n\u001b[1;32m     10\u001b[0m \u001b[0mdataFeatures\u001b[0m \u001b[0;34m=\u001b[0m \u001b[0mData\u001b[0m\u001b[0;34m.\u001b[0m\u001b[0mdrop\u001b[0m\u001b[0;34m(\u001b[0m\u001b[0mtargetFeature\u001b[0m\u001b[0;34m,\u001b[0m \u001b[0maxis\u001b[0m\u001b[0;34m=\u001b[0m\u001b[0;36m1\u001b[0m\u001b[0;34m)\u001b[0m\u001b[0;34m\u001b[0m\u001b[0;34m\u001b[0m\u001b[0m\n",
            "\u001b[0;31mAttributeError\u001b[0m: 'str' object has no attribute 'isin'"
          ]
        }
      ]
    }
  ]
}